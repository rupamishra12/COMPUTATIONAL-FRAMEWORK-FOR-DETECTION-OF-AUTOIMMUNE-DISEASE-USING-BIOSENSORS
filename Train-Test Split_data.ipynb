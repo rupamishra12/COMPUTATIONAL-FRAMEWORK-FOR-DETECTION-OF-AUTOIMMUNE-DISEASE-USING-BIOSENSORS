{
 "cells": [
  {
   "cell_type": "code",
   "execution_count": 8,
   "id": "c97ec380-7538-4eb8-9675-1f171e22a415",
   "metadata": {},
   "outputs": [],
   "source": [
    "import pandas as pd\n",
    "from sklearn.model_selection import train_test_split\n",
    "input_path = \"preprocessed_diabetes_data.csv\"\n",
    "cleaned_path = pd.read_csv(input_path)"
   ]
  },
  {
   "cell_type": "code",
   "execution_count": 10,
   "id": "84fa5caf-592b-4935-8504-755598f47207",
   "metadata": {},
   "outputs": [
    {
     "name": "stdout",
     "output_type": "stream",
     "text": [
      "Cleaned Data Preview:\n",
      "  Experimental Strategy Condition            Tissue Cell Type  Gender    Age  \\\n",
      "0            Expression       T1D  Peripheral blood     PBMCs  Female   1-10   \n",
      "1            Expression       T1D  Peripheral blood     PBMCs    Male   1-10   \n",
      "2            Expression       T1D  Peripheral blood     PBMCs    Male   1-10   \n",
      "3            Expression       T1D  Peripheral blood     PBMCs    Male  11-20   \n",
      "4            Expression       T1D  Peripheral blood     PBMCs    Male   1-10   \n",
      "\n",
      "  Ethnicity  \n",
      "0     White  \n",
      "1   Unknown  \n",
      "2     Black  \n",
      "3     White  \n",
      "4   Unknown  \n"
     ]
    }
   ],
   "source": [
    "print(\"Cleaned Data Preview:\")\n",
    "print(cleaned_path.head())"
   ]
  },
  {
   "cell_type": "code",
   "execution_count": 12,
   "id": "7f788583-f335-4521-b368-702f6b76aeab",
   "metadata": {},
   "outputs": [
    {
     "name": "stdout",
     "output_type": "stream",
     "text": [
      "   Experimental Strategy Condition            Tissue Cell Type  Gender    Age Ethnicity\n",
      "0             Expression       T1D  Peripheral blood     PBMCs  Female   1-10     White\n",
      "1             Expression       T1D  Peripheral blood     PBMCs    Male   1-10   Unknown\n",
      "2             Expression       T1D  Peripheral blood     PBMCs    Male   1-10     Black\n",
      "3             Expression       T1D  Peripheral blood     PBMCs    Male  11-20     White\n",
      "4             Expression       T1D  Peripheral blood     PBMCs    Male   1-10   Unknown\n",
      "5             Expression       T1D  Peripheral blood     PBMCs    Male   1-10   Unknown\n",
      "6             Expression       T1D  Peripheral blood     PBMCs  Female   1-10     White\n",
      "7             Expression       T1D  Peripheral blood     PBMCs  Female   1-10     White\n",
      "8             Expression       T1D  Peripheral blood     PBMCs  Female  11-20     White\n",
      "9             Expression       T1D  Peripheral blood     PBMCs    Male  11-20     White\n",
      "10            Expression       T1D  Peripheral blood     PBMCs  Female  11-20     White\n",
      "11            Expression       T1D  Peripheral blood     PBMCs  Female  11-20     White\n",
      "12            Expression       T1D  Peripheral blood     PBMCs    Male   1-10     White\n",
      "13            Expression       T1D  Peripheral blood     PBMCs  Female  11-20     White\n",
      "14            Expression       T1D  Peripheral blood     PBMCs    Male  11-20   Unknown\n",
      "15            Expression       T1D  Peripheral blood     PBMCs  Female   1-10   Unknown\n",
      "16            Expression       T1D  Peripheral blood     PBMCs  Female  11-20     White\n",
      "17            Expression       T1D  Peripheral blood     PBMCs  Female   1-10     White\n",
      "18            Expression       T1D  Peripheral blood     PBMCs  Female   1-10     White\n",
      "19            Expression       T1D  Peripheral blood     PBMCs  Female  11-20     White\n"
     ]
    }
   ],
   "source": [
    "df = pd.read_csv('preprocessed_diabetes_data.csv')\n",
    "df.fillna('Unknown', inplace=True)\n",
    "diabetes_data = df[df['Condition'].str.strip().str.contains('T1D', case=False, na=False)]\n",
    "columns_to_drop = ['GSE', 'GPL', 'Sample']\n",
    "diabetes_data = diabetes_data.drop(columns=[col for col in columns_to_drop if col in diabetes_data.columns])\n",
    "print(diabetes_data.to_string())\n",
    "X = cleaned_path.drop(columns=['Condition'])\n",
    "y = cleaned_path['Condition']"
   ]
  },
  {
   "cell_type": "markdown",
   "id": "8232b80f-3015-41b9-aeb8-4804ed884456",
   "metadata": {},
   "source": [
    "# Assistant\n",
    "Let me explain the selected code line by line:\n",
    "\n",
    "1. `df = pd.read_csv('preprocessed_diabetes_data.csv')` - Reads a CSV file named 'preprocessed_diabetes_data.csv' into a pandas DataFrame.\n",
    "\n",
    "2. `df.fillna('Unknown', inplace=True)` - Fills any missing values (NaN) in the DataFrame with the string 'Unknown'. The `inplace=True` means it modifies the DataFrame directly.\n",
    "\n",
    "3. `diabetes_data = df[df['Condition'].str.strip().str.contains('T1D', case=False, na=False)]` - Creates a new DataFrame containing only rows where the 'Condition' column contains 'T1D' (case-insensitive). The `strip()` removes leading/trailing whitespace.\n",
    "\n",
    "4. `columns_to_drop = ['GSE', 'GPL', 'Sample']` - Creates a list of column names to be removed.\n",
    "\n",
    "5. `diabetes_data = diabetes_data.drop(columns=[col for col in columns_to_drop if col in diabetes_data.columns])` - Removes specified columns from the DataFrame, but only if they exist.\n",
    "\n",
    "6. `print(diabetes_data.to_string())` - Prints the entire DataFrame as a string without truncation.\n",
    "\n",
    "7. `X = cleaned_path.drop(columns=['Condition'])` - Creates feature matrix X by removing the 'Condition' column.\n",
    "\n",
    "8. `y = cleaned_path['Condition']` - Creates target variable y containing only the 'Condition' column."
   ]
  },
  {
   "cell_type": "code",
   "execution_count": 14,
   "id": "cbc3718d-cd71-4136-a2af-b8ba3d89c2cf",
   "metadata": {},
   "outputs": [
    {
     "name": "stdout",
     "output_type": "stream",
     "text": [
      "\n",
      "Training Set Size: (16, 6)\n",
      "Testing Set Size: (4, 6)\n"
     ]
    }
   ],
   "source": [
    "X_train, X_test, y_train, y_test = train_test_split(X, y, test_size=0.2, random_state=42, stratify = y)\n",
    "print(f\"\\nTraining Set Size: {X_train.shape}\")\n",
    "print(f\"Testing Set Size: {X_test.shape}\")"
   ]
  },
  {
   "cell_type": "markdown",
   "id": "f29cb42d-a4b1-4c0f-8a53-82c204e384e5",
   "metadata": {},
   "source": [
    "# Assistant\n",
    "The selected code performs a train-test split on the dataset and prints the sizes of the training and testing sets. Here's a step-by-step explanation:\n",
    "\n",
    "1. `X_train, X_test, y_train, y_test = train_test_split(X, y, test_size=0.2, random_state=42, stratify=y)` - This line uses the `train_test_split` function from the `sklearn.model_selection` module to split the features (`X`) and target labels (`y`) into training and testing sets.\n",
    "   - `X` is the feature set, while `y` is the target variable.\n",
    "   - `test_size=0.2` specifies that 20% of the data should be allocated to the testing set, while the remaining 80% will be used for training.\n",
    "   - `random_state=42` ensures that the split is reproducible; using the same random state will yield the same split every time the code is run.\n",
    "   - `stratify=y` ensures that the split maintains the same proportion of classes in both the training and testing sets as in the original dataset.\n",
    "\n",
    "2. `print(f\"\\nTraining Set Size: {X_train.shape}\")` - This line prints the size (shape) of the training feature set `X_train`. The `shape` attribute returns a tuple representing the dimensions of the array (number of samples, number of features).\n",
    "\n",
    "3. `print(f\"Testing Set Size: {X_test.shape}\")` - This line prints the size (shape) of the testing feature set `X_test`, similar to the previous line. \n",
    "\n",
    "Overall, this code snippet is used to prepare the data for training and evaluation of a machine learning model while providing information about the sizes of the resulting datasets."
   ]
  },
  {
   "cell_type": "code",
   "execution_count": 16,
   "id": "b3fd5187-8f82-4fee-a94f-d57400026119",
   "metadata": {},
   "outputs": [
    {
     "name": "stdout",
     "output_type": "stream",
     "text": [
      "Train-Test Split Completed. Datasets saved.\n"
     ]
    }
   ],
   "source": [
    "X_train.to_csv('X_train.csv', index=False)\n",
    "X_test.to_csv('X_test.csv', index=False)\n",
    "y_train.to_csv('y_train', index=False)\n",
    "y_test.to_csv('y_test', index=False)\n",
    "print(\"Train-Test Split Completed. Datasets saved.\")"
   ]
  },
  {
   "cell_type": "code",
   "execution_count": null,
   "id": "8becadf4-c2ee-471f-b6b0-04d8fa52ed25",
   "metadata": {},
   "outputs": [],
   "source": []
  }
 ],
 "metadata": {
  "kernelspec": {
   "display_name": "Python [conda env:base] *",
   "language": "python",
   "name": "conda-base-py"
  },
  "language_info": {
   "codemirror_mode": {
    "name": "ipython",
    "version": 3
   },
   "file_extension": ".py",
   "mimetype": "text/x-python",
   "name": "python",
   "nbconvert_exporter": "python",
   "pygments_lexer": "ipython3",
   "version": "3.12.7"
  }
 },
 "nbformat": 4,
 "nbformat_minor": 5
}
