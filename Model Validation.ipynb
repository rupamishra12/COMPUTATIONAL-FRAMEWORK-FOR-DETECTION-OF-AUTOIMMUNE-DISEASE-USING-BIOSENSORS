{
 "cells": [
  {
   "cell_type": "code",
   "execution_count": 28,
   "id": "8b165adf-4e24-492f-820f-54d58d2eb7b8",
   "metadata": {},
   "outputs": [],
   "source": [
    "import pandas as pd\n",
    "from sklearn.impute import KNNImputer\n",
    "from sklearn.model_selection import train_test_split, GridSearchCV\n",
    "from sklearn.preprocessing import StandardScaler\n",
    "from sklearn.ensemble import RandomForestClassifier\n",
    "from sklearn.metrics import classification_report, accuracy_score, confusion_matrix\n",
    "from sklearn.neighbors import KNeighborsClassifier\n",
    "import joblib  # For saving the model"
   ]
  },
  {
   "cell_type": "markdown",
   "id": "5905c359-a278-4301-a803-573f62cd4709",
   "metadata": {},
   "source": [
    "Model Performance Evaluation"
   ]
  },
  {
   "cell_type": "code",
   "execution_count": 30,
   "id": "5114c720-13c0-432a-ac64-5a9d54c93b69",
   "metadata": {},
   "outputs": [],
   "source": [
    "input_path = \"Encoded_data.csv\"\n",
    "cleaned_path = pd.read_csv(input_path)\n",
    "X = cleaned_path.drop(columns=['Condition'])\n",
    "y = cleaned_path['Condition']\n",
    "X_train, X_test, y_train, y_test = train_test_split(X, y, test_size = 0.2, random_state = 42) \n",
    "model = KNeighborsClassifier(n_neighbors=5)\n",
    "model.fit(X_train, y_train)\n",
    "y_pred = model.predict(X_test)"
   ]
  },
  {
   "cell_type": "markdown",
   "id": "bcf33b90-7f31-42d1-960a-da08a21ec5d8",
   "metadata": {},
   "source": [
    "# Assistant\n",
    "Let me explain the selected code step by step:\n",
    "\n",
    "1. `input_path = \"Encoded_data.csv\"` - Creates a variable storing the path to the CSV file\n",
    "\n",
    "2. `cleaned_path = pd.read_csv(input_path)` - Uses pandas to read the CSV file and store it in a DataFrame\n",
    "\n",
    "3. `X = cleaned_path.drop(columns=['Condition'])` - Creates feature matrix X by removing the 'Condition' column\n",
    "\n",
    "4. `y = cleaned_path['Condition']` - Creates target variable y containing only the 'Condition' column\n",
    "\n",
    "5. `X_train, X_test, y_train, y_test = train_test_split(X, y, test_size = 0.2, random_state = 42)` - Splits the data into training (80%) and testing (20%) sets using scikit-learn's train_test_split function\n",
    "\n",
    "6. `model = KNeighborsClassifier(n_neighbors=5)` - Initializes a K-Nearest Neighbors classifier with 5 neighbors\n",
    "\n",
    "7. `model.fit(X_train, y_train)` - Trains the model on the training data\n",
    "\n",
    "8. `y_pred = model.predict(X_test)` - Uses the trained model to make predictions on the test data"
   ]
  },
  {
   "cell_type": "code",
   "execution_count": 32,
   "id": "ec9abd6a-6abf-4183-bbf0-c97253c5a5b5",
   "metadata": {},
   "outputs": [
    {
     "name": "stdout",
     "output_type": "stream",
     "text": [
      "Accuracy: 0.8333333333333334\n",
      "\n",
      "Classification Report:\n",
      "              precision    recall  f1-score   support\n",
      "\n",
      "         0.0       1.00      0.50      0.67         2\n",
      "         1.0       0.80      1.00      0.89         4\n",
      "\n",
      "    accuracy                           0.83         6\n",
      "   macro avg       0.90      0.75      0.78         6\n",
      "weighted avg       0.87      0.83      0.81         6\n",
      "\n"
     ]
    }
   ],
   "source": [
    "print(\"Accuracy:\", accuracy_score(y_test, y_pred))\n",
    "print(\"\\nClassification Report:\")\n",
    "print(classification_report(y_test, y_pred))"
   ]
  },
  {
   "cell_type": "markdown",
   "id": "ef57c4a9-ad57-4023-8354-99d91df211f0",
   "metadata": {},
   "source": [
    "# Assistant\n",
    "The selected code evaluates and prints the performance metrics of a classification model. Here's a step-by-step breakdown:\n",
    "\n",
    "1. `accuracy_score(y_test, y_pred)` - Calculates the accuracy by comparing the predicted values (y_pred) against the actual test values (y_test)\n",
    "\n",
    "2. `classification_report(y_test, y_pred)` - Generates a detailed report containing:\n",
    "   - Precision\n",
    "   - Recall\n",
    "   - F1-score\n",
    "   - Support\n",
    "   For each class in the classification model\n",
    "\n",
    "3. The results are printed using two print statements:\n",
    "   - First line shows the overall accuracy\n",
    "   - Second line displays the full classification report with detailed metrics\n",
    "\n",
    "This code is commonly used to evaluate how well a classification model is performing on test data."
   ]
  },
  {
   "cell_type": "markdown",
   "id": "ba98c8ff-19e2-430c-b3a0-bb1991340cc5",
   "metadata": {},
   "source": [
    "Hyperparameter Tuning"
   ]
  },
  {
   "cell_type": "code",
   "execution_count": 36,
   "id": "6a2dbac2-30f9-470a-9812-5fe996cd5f64",
   "metadata": {},
   "outputs": [
    {
     "name": "stdout",
     "output_type": "stream",
     "text": [
      "Best Parameters: {'metric': 'euclidean', 'n_neighbors': 3, 'weights': 'uniform'}\n",
      "Best Cross-Validation Score: 0.67\n"
     ]
    }
   ],
   "source": [
    "param_grid = {\n",
    "    'n_neighbors': [3,5,7,9,11],\n",
    "    'weights': ['uniform', 'distance'],\n",
    "    'metric': ['euclidean', 'manhattan']\n",
    "}\n",
    "knn = KNeighborsClassifier()\n",
    "grid_search = GridSearchCV(knn, param_grid, cv = 5, scoring = 'accuracy')\n",
    "grid_search.fit(X_train, y_train)\n",
    "print(\"Best Parameters:\", grid_search.best_params_)\n",
    "print(\"Best Cross-Validation Score:\", grid_search.best_score_)"
   ]
  },
  {
   "cell_type": "markdown",
   "id": "2f9a8bbb-16b9-4e73-9dc5-62901a23bb04",
   "metadata": {},
   "source": [
    "# Assistant\n",
    "This code sets up and performs a grid search for hyperparameter tuning of a K-Nearest Neighbors classifier. Here's the step-by-step breakdown:\n",
    "\n",
    "1. `param_grid` defines a dictionary of parameters to test:\n",
    "   - `n_neighbors`: Tests different numbers of neighbors [3,5,7,9,11]\n",
    "   - `weights`: Tests two weighting methods ('uniform' and 'distance')\n",
    "   - `metric`: Tests two distance metrics ('euclidean' and 'manhattan')\n",
    "\n",
    "2. `knn = KNeighborsClassifier()` creates a base KNN model instance\n",
    "\n",
    "3. `grid_search = GridSearchCV(knn, param_grid, cv = 5, scoring = 'accuracy')` initializes the grid search:\n",
    "   - Uses the KNN model and parameter grid defined above\n",
    "   - Performs 5-fold cross-validation (`cv = 5`)\n",
    "   - Uses accuracy as the scoring metric\n",
    "\n",
    "4. `grid_search.fit()` performs the actual grid search on the training data\n",
    "\n",
    "5. The final print statements display the best parameters found and their corresponding cross-validation score"
   ]
  },
  {
   "cell_type": "markdown",
   "id": "6bf77b5b-eafa-4f6e-9876-6b88bff24d53",
   "metadata": {},
   "source": [
    "Model Validation"
   ]
  },
  {
   "cell_type": "code",
   "execution_count": 42,
   "id": "2dfd6e6a-a9bb-4c87-b190-c802d5b3cf67",
   "metadata": {},
   "outputs": [
    {
     "name": "stdout",
     "output_type": "stream",
     "text": [
      "Test Accuracy: 0.8333333333333334\n"
     ]
    }
   ],
   "source": [
    "best_knn = grid_search.best_estimator_\n",
    "y_test_pred = best_knn.predict(X_test)\n",
    "print(\"Test Accuracy:\", accuracy_score(y_test, y_test_pred))"
   ]
  },
  {
   "cell_type": "markdown",
   "id": "f66f16bb-4a5d-4109-a793-d449f0e2a066",
   "metadata": {},
   "source": [
    "# Assistant\n",
    "Let me explain the selected code line by line:\n",
    "\n",
    "1. `best_knn = grid_search.best_estimator_` - Retrieves the best performing KNN model from a previously run grid search.\n",
    "\n",
    "2. `y_test_pred = best_knn.predict(X_test)` - Uses the best KNN model to make predictions on the test data (X_test).\n",
    "\n",
    "3. `print(\"Test Accuracy:\", accuracy_score(y_test, y_test_pred))` - Calculates and prints the accuracy score by comparing the predicted values (y_test_pred) with the actual test values (y_test).\n",
    "\n",
    "This code snippet is typically used after performing grid search to evaluate how well the best model performs on unseen test data."
   ]
  },
  {
   "cell_type": "code",
   "execution_count": null,
   "id": "1c83eabe-7e76-4517-9073-2862ae45299f",
   "metadata": {},
   "outputs": [],
   "source": []
  }
 ],
 "metadata": {
  "kernelspec": {
   "display_name": "Python [conda env:base] *",
   "language": "python",
   "name": "conda-base-py"
  },
  "language_info": {
   "codemirror_mode": {
    "name": "ipython",
    "version": 3
   },
   "file_extension": ".py",
   "mimetype": "text/x-python",
   "name": "python",
   "nbconvert_exporter": "python",
   "pygments_lexer": "ipython3",
   "version": "3.12.7"
  }
 },
 "nbformat": 4,
 "nbformat_minor": 5
}
